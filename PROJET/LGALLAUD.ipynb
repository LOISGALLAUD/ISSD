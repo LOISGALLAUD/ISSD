{
 "cells": [
  {
   "attachments": {},
   "cell_type": "markdown",
   "metadata": {},
   "source": [
    "# **Projet ISSD**\n",
    "\n",
    "**Élève**: Loïs GALLAUD 1A Généraliste\n",
    "\n",
    "**Date de début**: 29/03/2023\n",
    "\n",
    "---\n"
   ]
  },
  {
   "cell_type": "code",
   "execution_count": 1,
   "metadata": {},
   "outputs": [],
   "source": [
    "# Importation des librairies nécessaires\n",
    "import numpy as np \n",
    "import csv\n",
    "import matplotlib.pyplot as plt\n",
    "import pandas as pd\n",
    "import seaborn as sns\n",
    "sns.set(color_codes = True)\n",
    "sns.set(font_scale=1.5) # fixe la taille de la police à 1.5 * 12pt\n",
    "from scipy import stats"
   ]
  },
  {
   "attachments": {},
   "cell_type": "markdown",
   "metadata": {},
   "source": [
    "---\n",
    "\n",
    "## **I - Choix du sujet**\n",
    "\n",
    "### 1) Analyse des données\n",
    "\n",
    "Je décide dans un premier temps de regarder quelles sont les données que j'aurai à traiter:\n",
    "\n",
    "* **Données météo**: ```|Date|Pression au niveau mer|Variation de pression en 3 heures|Direction du vent moyen 10 mn|Vitesse du vent moyen 10 mn|Température|Point de rosée|Humidité|Visibilité horizontale|Temps présent|Temps passé 1|Temps passé 2|Nebulosité totale|Nébulosité  des nuages de l' étage inférieur|Hauteur de la base des nuages de l'étage inférieur|Type des nuages de l'étage inférieur|Type des nuages de l'étage moyen|Type des nuages de l'étage supérieur|Pression station|Niveau barométrique|Variation de pression en 24 heures|Méthode de mesure Température du thermomètre mouillé|Température du thermomètre mouillé|Rafale sur les 10 dernières minutes|Rafales sur une période|Periode de mesure de la rafale|Etat du sol|Hauteur totale de la couche de neige, glace, autre au sol|Hauteur de la neige fraîche|Periode de mesure de la neige fraiche|Précipitations dans la dernière heure|Précipitations dans les 3 dernières heures|Précipitations dans les 12 dernières heures|Précipitations dans les 24 dernières heures|Phénomène spécial 1|Phénomène spécial 2|Phénomène spécial 3|Phénomène spécial 4|Nom|Température (°C)|Température minimale sur 12 heures (°C)|Température minimale sur 24 heures (°C)|Température maximale sur 12 heures (°C)|Température maximale sur 24 heures (°C)|Température minimale du sol sur 12 heures (en °C)|Latitude|Longitude|Altitude|department (name)|department (code)|region (name)|mois_de_l_annee```\n",
    "\n",
    "* **Données jeu de société**: ``name|yearpublished|sortindex|minplayers|maxplayers|minplaytime|maxplaytime|minage|usersrated|average|stddev|avgweight|numweights|numcomments|boardgamehonor|boardgamecategory|boardgamemechanic|boardgamefamily``\n",
    "\n",
    "### 2) Remarques:\n",
    "\n",
    "* Les données météo sont divisées en beaucoup plus de critères que les données des jeux de société. \n",
    "> Cela veut donc dire que je risque de devoir faire plus de travail sur les interprétations des données des jeux de société que sur les données météo.\n",
    "\n",
    "* Taille des fichiers de données: le fichier `csv` des données météo (``226032 Ko``) est beaucoup plus lourd que les données des jeux de société (``4580 Ko``). Les données météo sont donc beaucoup plus lourdes à traiter.\n",
    "> Cela veut aussi dire que les résultats de mes analyses seront peut être plus précises sur les données météo que sur les données des jeux de société.\n",
    "\n",
    "<img src=\"./IMAGES/BoardGameGeek_Logo.png\" align='right'>\n",
    "\n",
    "### 3) Choix\n",
    "\n",
    "Pour pouvoir me laisser une plus grande liberté dans le choix de mes analyses, **je décide de travailler sur les données des jeux de société**.\n",
    "\n",
    "---"
   ]
  },
  {
   "attachments": {},
   "cell_type": "markdown",
   "metadata": {},
   "source": [
    "## **II - Prétraitement des données**"
   ]
  },
  {
   "attachments": {},
   "cell_type": "markdown",
   "metadata": {},
   "source": [
    "### 1) Chargement des données:"
   ]
  },
  {
   "cell_type": "code",
   "execution_count": 2,
   "metadata": {},
   "outputs": [],
   "source": [
    "DATA = pd.read_csv('./DATA/dirty_boardgames.csv', delimiter = ';', index_col = 'sortindex')"
   ]
  },
  {
   "attachments": {},
   "cell_type": "markdown",
   "metadata": {},
   "source": [
    "### 2) Données doublons/manquantes\n",
    "On enlève les doublons et les valeurs manquantes:\n",
    "> Je décide dans un premier temps de supprimer les lignes qui contiennent des valeurs manquantes. Sans considérer les valeurs manquantes, je peux déjà faire des analyses sur les données. Je pourrais ensuite essayer de remplacer les valeurs manquantes par des valeurs moyennes ou par des valeurs qui ont du sens si cela prend sens par la suite."
   ]
  },
  {
   "cell_type": "code",
   "execution_count": 3,
   "metadata": {},
   "outputs": [
    {
     "name": "stdout",
     "output_type": "stream",
     "text": [
      "Nombre de lignes supprimées : 0\n",
      "Nombre de lignes et de colonnes au total: (20000, 17)\n"
     ]
    }
   ],
   "source": [
    "df = DATA.copy() # on crée l'objet df qui est une copie de DATA\n",
    "length_before = len(df)\n",
    "\n",
    "df.drop_duplicates() # supprime les lignes dupliquées\n",
    "df.dropna(how = 'any') # supprime les lignes contenant des nan pour toutes les variables du df\n",
    "length_after = len(df)\n",
    "\n",
    "print(f'Nombre de lignes supprimées : {length_before - length_after}')  # on affiche le nombre de lignes supprimées\n",
    "print(f'Nombre de lignes et de colonnes au total: {df.shape}') # on affiche le nombre de lignes et de colonnes du df"
   ]
  },
  {
   "attachments": {},
   "cell_type": "markdown",
   "metadata": {},
   "source": [
    "On remarque que les données ne contiennent **pas de doublons ni de valeurs manquantes**. \n",
    "\n",
    "De plus, le fichier `csv` contient exactement 20 000 lignes, **ce qui est relativement peu** comparé à l'autre jeu de données. Je n'ai donc pas intérêt à supprimer des lignes."
   ]
  },
  {
   "attachments": {},
   "cell_type": "markdown",
   "metadata": {},
   "source": [
    "### 3) Données aberrantes\n",
    "\n",
    "On peut dans un premier temps essayer de détecter les valeurs aberrantes à l'œil. Pour cela, on peut utiliser la fonction `describe()` qui nous donne des informations sur les données."
   ]
  },
  {
   "cell_type": "code",
   "execution_count": 4,
   "metadata": {},
   "outputs": [
    {
     "data": {
      "text/html": [
       "<div>\n",
       "<style scoped>\n",
       "    .dataframe tbody tr th:only-of-type {\n",
       "        vertical-align: middle;\n",
       "    }\n",
       "\n",
       "    .dataframe tbody tr th {\n",
       "        vertical-align: top;\n",
       "    }\n",
       "\n",
       "    .dataframe thead th {\n",
       "        text-align: right;\n",
       "    }\n",
       "</style>\n",
       "<table border=\"1\" class=\"dataframe\">\n",
       "  <thead>\n",
       "    <tr style=\"text-align: right;\">\n",
       "      <th></th>\n",
       "      <th>yearpublished</th>\n",
       "      <th>minplayers</th>\n",
       "      <th>maxplayers</th>\n",
       "      <th>minplaytime</th>\n",
       "      <th>maxplaytime</th>\n",
       "      <th>minage</th>\n",
       "      <th>usersrated</th>\n",
       "      <th>average</th>\n",
       "      <th>stddev</th>\n",
       "      <th>avgweight</th>\n",
       "      <th>numweights</th>\n",
       "      <th>numcomments</th>\n",
       "    </tr>\n",
       "  </thead>\n",
       "  <tbody>\n",
       "    <tr>\n",
       "      <th>count</th>\n",
       "      <td>20000.000000</td>\n",
       "      <td>20000.000000</td>\n",
       "      <td>20000.00000</td>\n",
       "      <td>20000.000000</td>\n",
       "      <td>20000.00000</td>\n",
       "      <td>20000.000000</td>\n",
       "      <td>20000.000000</td>\n",
       "      <td>20000.000000</td>\n",
       "      <td>20000.000000</td>\n",
       "      <td>20000.000000</td>\n",
       "      <td>20000.000000</td>\n",
       "      <td>20000.000000</td>\n",
       "    </tr>\n",
       "    <tr>\n",
       "      <th>mean</th>\n",
       "      <td>1981.268700</td>\n",
       "      <td>2.055250</td>\n",
       "      <td>5.59215</td>\n",
       "      <td>68.096450</td>\n",
       "      <td>94.28945</td>\n",
       "      <td>9.476350</td>\n",
       "      <td>739.616350</td>\n",
       "      <td>6.275440</td>\n",
       "      <td>1.499691</td>\n",
       "      <td>1.931761</td>\n",
       "      <td>48.059050</td>\n",
       "      <td>191.515100</td>\n",
       "    </tr>\n",
       "    <tr>\n",
       "      <th>std</th>\n",
       "      <td>219.223277</td>\n",
       "      <td>0.745537</td>\n",
       "      <td>15.04921</td>\n",
       "      <td>466.502106</td>\n",
       "      <td>1005.75196</td>\n",
       "      <td>3.738842</td>\n",
       "      <td>3096.843206</td>\n",
       "      <td>1.065339</td>\n",
       "      <td>0.340743</td>\n",
       "      <td>0.897206</td>\n",
       "      <td>198.113638</td>\n",
       "      <td>606.892077</td>\n",
       "    </tr>\n",
       "    <tr>\n",
       "      <th>min</th>\n",
       "      <td>-3500.000000</td>\n",
       "      <td>0.000000</td>\n",
       "      <td>0.00000</td>\n",
       "      <td>0.000000</td>\n",
       "      <td>0.00000</td>\n",
       "      <td>0.000000</td>\n",
       "      <td>0.000000</td>\n",
       "      <td>0.000000</td>\n",
       "      <td>0.000000</td>\n",
       "      <td>0.000000</td>\n",
       "      <td>0.000000</td>\n",
       "      <td>0.000000</td>\n",
       "    </tr>\n",
       "    <tr>\n",
       "      <th>25%</th>\n",
       "      <td>1997.000000</td>\n",
       "      <td>2.000000</td>\n",
       "      <td>4.00000</td>\n",
       "      <td>20.000000</td>\n",
       "      <td>30.00000</td>\n",
       "      <td>8.000000</td>\n",
       "      <td>47.000000</td>\n",
       "      <td>5.712778</td>\n",
       "      <td>1.309920</td>\n",
       "      <td>1.255050</td>\n",
       "      <td>4.000000</td>\n",
       "      <td>21.000000</td>\n",
       "    </tr>\n",
       "    <tr>\n",
       "      <th>50%</th>\n",
       "      <td>2008.000000</td>\n",
       "      <td>2.000000</td>\n",
       "      <td>4.00000</td>\n",
       "      <td>30.000000</td>\n",
       "      <td>45.00000</td>\n",
       "      <td>10.000000</td>\n",
       "      <td>105.000000</td>\n",
       "      <td>6.354170</td>\n",
       "      <td>1.471575</td>\n",
       "      <td>1.910900</td>\n",
       "      <td>9.000000</td>\n",
       "      <td>44.000000</td>\n",
       "    </tr>\n",
       "    <tr>\n",
       "      <th>75%</th>\n",
       "      <td>2015.000000</td>\n",
       "      <td>2.000000</td>\n",
       "      <td>6.00000</td>\n",
       "      <td>60.000000</td>\n",
       "      <td>90.00000</td>\n",
       "      <td>12.000000</td>\n",
       "      <td>333.250000</td>\n",
       "      <td>6.955793</td>\n",
       "      <td>1.663782</td>\n",
       "      <td>2.500000</td>\n",
       "      <td>25.000000</td>\n",
       "      <td>122.000000</td>\n",
       "    </tr>\n",
       "    <tr>\n",
       "      <th>max</th>\n",
       "      <td>2021.000000</td>\n",
       "      <td>10.000000</td>\n",
       "      <td>999.00000</td>\n",
       "      <td>60000.000000</td>\n",
       "      <td>120000.00000</td>\n",
       "      <td>25.000000</td>\n",
       "      <td>90730.000000</td>\n",
       "      <td>9.442860</td>\n",
       "      <td>4.500000</td>\n",
       "      <td>5.000000</td>\n",
       "      <td>7104.000000</td>\n",
       "      <td>17143.000000</td>\n",
       "    </tr>\n",
       "  </tbody>\n",
       "</table>\n",
       "</div>"
      ],
      "text/plain": [
       "       yearpublished    minplayers   maxplayers   minplaytime   maxplaytime  \\\n",
       "count   20000.000000  20000.000000  20000.00000  20000.000000   20000.00000   \n",
       "mean     1981.268700      2.055250      5.59215     68.096450      94.28945   \n",
       "std       219.223277      0.745537     15.04921    466.502106    1005.75196   \n",
       "min     -3500.000000      0.000000      0.00000      0.000000       0.00000   \n",
       "25%      1997.000000      2.000000      4.00000     20.000000      30.00000   \n",
       "50%      2008.000000      2.000000      4.00000     30.000000      45.00000   \n",
       "75%      2015.000000      2.000000      6.00000     60.000000      90.00000   \n",
       "max      2021.000000     10.000000    999.00000  60000.000000  120000.00000   \n",
       "\n",
       "             minage    usersrated       average        stddev     avgweight  \\\n",
       "count  20000.000000  20000.000000  20000.000000  20000.000000  20000.000000   \n",
       "mean       9.476350    739.616350      6.275440      1.499691      1.931761   \n",
       "std        3.738842   3096.843206      1.065339      0.340743      0.897206   \n",
       "min        0.000000      0.000000      0.000000      0.000000      0.000000   \n",
       "25%        8.000000     47.000000      5.712778      1.309920      1.255050   \n",
       "50%       10.000000    105.000000      6.354170      1.471575      1.910900   \n",
       "75%       12.000000    333.250000      6.955793      1.663782      2.500000   \n",
       "max       25.000000  90730.000000      9.442860      4.500000      5.000000   \n",
       "\n",
       "         numweights   numcomments  \n",
       "count  20000.000000  20000.000000  \n",
       "mean      48.059050    191.515100  \n",
       "std      198.113638    606.892077  \n",
       "min        0.000000      0.000000  \n",
       "25%        4.000000     21.000000  \n",
       "50%        9.000000     44.000000  \n",
       "75%       25.000000    122.000000  \n",
       "max     7104.000000  17143.000000  "
      ]
     },
     "execution_count": 4,
     "metadata": {},
     "output_type": "execute_result"
    }
   ],
   "source": [
    "df.describe()"
   ]
  },
  {
   "attachments": {},
   "cell_type": "markdown",
   "metadata": {},
   "source": [
    "#### _Remarques:_\n",
    "\n",
    "* colonne `yearpublished`: la valeur minimale est de -3500. La valeur de l'écart s'en retrouve donc impactée.\n",
    "* colonnes `min/maxplayers` & `min/maxplaytime`: les valeurs minimales et maximales ne sont pas vraiment interprétables: est ce que 0 dans `minplayers` signifie que le jeu n'a pas de minimum de joueurs ou est ce que cela signifie que le jeu est un jeu solo? De même pour les valeurs maximales comme celle de `maxplayers` de 999 (pas de maximum de joueurs?).\n",
    "* colonne `usersrated`: rien qu'ne regardant la valeur d'écart type on s'attend à avoir des valeurs aberrantes. Cependant, la colonne `usersrated` est une colonne qui contient le nombre de personnes qui ont noté le jeu. Il est donc normal d'avoir des valeurs très grandes si l'ensemble de données contient des jeux de société très connus. Le même phénomène est présent su rla colone `numweights` et `numcomments`.\n",
    "\n",
    "**Conclusion de cette première analyse:**\n",
    "\n",
    "Le jeu de données doit être étudié plus en détail. Il est possible que certaines colonnes ne soient pas interprétables ou qu'elles contiennent des valeurs aberrantes OU BIEN au contraire qu'elles contiennent des valeurs qui ont du sens: pour cela j'ai besoin d'aller sur le [site internet](https://boardgamegeek.com/browse/boardgame) d'où le jeu de données a été téléchargé pour comprendre le sens de chaque colonne.\n",
    "\n",
    "### 4) Recherches sur [Board Game Geek](https://boardgamegeek.com/)\n",
    "\n",
    "Pour essayer de comprendre à quoi servent chaque colonne, je décide de regarder plus en détails un exemple sur le site internet [Board Game Geek](https://boardgamegeek.com/).\n",
    "À l'heure actuelle, le jeu de société le mieux noté du site est le jeu [Brass: Birmingham](https://boardgamegeek.com/boardgame/224517/brass-birmingham)."
   ]
  },
  {
   "attachments": {},
   "cell_type": "markdown",
   "metadata": {},
   "source": [
    "<img src=\"./IMAGES/Brass_Birmingham.png\" />"
   ]
  },
  {
   "cell_type": "code",
   "execution_count": 5,
   "metadata": {},
   "outputs": [
    {
     "data": {
      "text/html": [
       "<div>\n",
       "<style scoped>\n",
       "    .dataframe tbody tr th:only-of-type {\n",
       "        vertical-align: middle;\n",
       "    }\n",
       "\n",
       "    .dataframe tbody tr th {\n",
       "        vertical-align: top;\n",
       "    }\n",
       "\n",
       "    .dataframe thead th {\n",
       "        text-align: right;\n",
       "    }\n",
       "</style>\n",
       "<table border=\"1\" class=\"dataframe\">\n",
       "  <thead>\n",
       "    <tr style=\"text-align: right;\">\n",
       "      <th></th>\n",
       "      <th>name</th>\n",
       "      <th>yearpublished</th>\n",
       "      <th>minplayers</th>\n",
       "      <th>maxplayers</th>\n",
       "      <th>minplaytime</th>\n",
       "      <th>maxplaytime</th>\n",
       "      <th>minage</th>\n",
       "      <th>usersrated</th>\n",
       "      <th>average</th>\n",
       "      <th>stddev</th>\n",
       "      <th>avgweight</th>\n",
       "      <th>numweights</th>\n",
       "      <th>numcomments</th>\n",
       "      <th>boardgamehonor</th>\n",
       "      <th>boardgamecategory</th>\n",
       "      <th>boardgamemechanic</th>\n",
       "      <th>boardgamefamily</th>\n",
       "    </tr>\n",
       "    <tr>\n",
       "      <th>sortindex</th>\n",
       "      <th></th>\n",
       "      <th></th>\n",
       "      <th></th>\n",
       "      <th></th>\n",
       "      <th></th>\n",
       "      <th></th>\n",
       "      <th></th>\n",
       "      <th></th>\n",
       "      <th></th>\n",
       "      <th></th>\n",
       "      <th></th>\n",
       "      <th></th>\n",
       "      <th></th>\n",
       "      <th></th>\n",
       "      <th></th>\n",
       "      <th></th>\n",
       "      <th></th>\n",
       "    </tr>\n",
       "  </thead>\n",
       "  <tbody>\n",
       "    <tr>\n",
       "      <th>5</th>\n",
       "      <td>Brass  Birmingham</td>\n",
       "      <td>2018</td>\n",
       "      <td>2</td>\n",
       "      <td>4</td>\n",
       "      <td>60</td>\n",
       "      <td>120</td>\n",
       "      <td>14</td>\n",
       "      <td>10070</td>\n",
       "      <td>8.62031</td>\n",
       "      <td>1.22876</td>\n",
       "      <td>3.9122</td>\n",
       "      <td>467</td>\n",
       "      <td>1702</td>\n",
       "      <td>['2018 Golden Geek Best Board Game Artwork &amp; P...</td>\n",
       "      <td>['Economic', 'Industry / Manufacturing', 'Tran...</td>\n",
       "      <td>['Hand Management', 'Income', 'Loans', 'Market...</td>\n",
       "      <td>['Beer', 'Brass', 'Cities: Birmingham (England...</td>\n",
       "    </tr>\n",
       "  </tbody>\n",
       "</table>\n",
       "</div>"
      ],
      "text/plain": [
       "                        name  yearpublished  minplayers  maxplayers  \\\n",
       "sortindex                                                             \n",
       "5          Brass  Birmingham           2018           2           4   \n",
       "\n",
       "           minplaytime  maxplaytime  minage  usersrated  average   stddev  \\\n",
       "sortindex                                                                   \n",
       "5                   60          120      14       10070  8.62031  1.22876   \n",
       "\n",
       "           avgweight  numweights  numcomments  \\\n",
       "sortindex                                       \n",
       "5             3.9122         467         1702   \n",
       "\n",
       "                                              boardgamehonor  \\\n",
       "sortindex                                                      \n",
       "5          ['2018 Golden Geek Best Board Game Artwork & P...   \n",
       "\n",
       "                                           boardgamecategory  \\\n",
       "sortindex                                                      \n",
       "5          ['Economic', 'Industry / Manufacturing', 'Tran...   \n",
       "\n",
       "                                           boardgamemechanic  \\\n",
       "sortindex                                                      \n",
       "5          ['Hand Management', 'Income', 'Loans', 'Market...   \n",
       "\n",
       "                                             boardgamefamily  \n",
       "sortindex                                                     \n",
       "5          ['Beer', 'Brass', 'Cities: Birmingham (England...  "
      ]
     },
     "execution_count": 5,
     "metadata": {},
     "output_type": "execute_result"
    }
   ],
   "source": [
    "brass = df[df['name'].str.contains('Birmingham', na=False)]\n",
    "brass.head(n=1)"
   ]
  },
  {
   "attachments": {},
   "cell_type": "markdown",
   "metadata": {},
   "source": [
    "> Veuillez noter que **le jeu de données a été téléchargé il y a quelques années**. Il est donc possible que le jeu de données ne contienne pas les dernières données du site internet. On suppose que le jeu de données a été téléchargé en 2021 car le maximum de la colonne `yearpublished` est de 2021."
   ]
  },
  {
   "attachments": {},
   "cell_type": "markdown",
   "metadata": {},
   "source": [
    "On peut déjà retrouver des colonnes qui nous intéresse sur la page d'accueil du jeu et en déduire des choses:\n",
    "\n",
    "* `avgweight`: sa note est de 3.90/5, ce qui confirme bien que la données doit aller de 0 à 5. Il s'agit du \"niveau de complexité du jeu\".\n",
    "* `min/maxplaytime`: on comprend désormais que les notations \"60 - 120 min\" est notée dans la dataframe minplaytime = 60 et maxplaytime = 120.\n",
    "* `min/maxplayers`: on comprend que les notations \"2 - 4\" est notée dans la dataframe minplayers = 2 et maxplayers = 4.\n",
    "* `usersrated`: on voit sur cet exemple qu'il y a bel et bien des jeux qui peuvent avoir beaucoup de notes. Notre première analyse qui était de dire que le jeu de données contenait des jeux très connus et des jeux moins connus **était donc correcte**.\n",
    "\n",
    "### Conclusion du prétraitement des données:\n",
    "\n",
    "* Les données ont déjà l'air propres. Il n'y a pas de valeurs manquantes ni de doublons.\n",
    "* Cependant il est possible que certaines colonnes contiennent des valeurs aberrantes.\n",
    "* Certaines colonnes fonctionnent ensemble et nécessite de connaitre comment la notation est faite sur le site pour pouvoir les interpréter correctement. Par exemple, les colonnes `min/maxplayers` et `min/maxplaytime` sont liées.\n",
    "\n",
    "> À mon avis, il est cohérent que les données soient aussi propres **puisqu'il s'agit de données rentrées par des utilisateurs sur un site internet**. Les utilisateurs sont donc sensibilisés à la qualité des données qu'ils rentrent et les données sont soumises à une validation par les administrateurs du site ou par un algorithme.\n",
    "\n",
    "**RÉSUMÉ DES COLONNES:**\n",
    "| Nom de la colonne | Description |    \n",
    "|:-----------------:|:-----------:|\n",
    "| yearpublished | Année de sortie du jeu |\n",
    "| sortindex | Indice du jeu |\n",
    "| minplayers | Nombre minimum de joueur |\n",
    "| maxplayers | Nombre maximum de joueur |\n",
    "| minplaytime | Durée minimum du jeu |\n",
    "| maxplaytime | Durée maximale du jeu |\n",
    "| minage | Age minimum conseillé pour jouer |\n",
    "| usersrated | Nombre de personne ayant noté ce jeu |\n",
    "| average | Note moyenne attribuée par les internautes |\n",
    "| stddev | Ecart type des notes attribuées par les internautes |\n",
    "| avgweight | Difficulté moyenne attribué à ce jeu de 0 à 5|\n",
    "| numweights | Nombre de personne ayant noté la difficulté de ce jeu |\n",
    "| numcomments | Nombre de commentaires |\n",
    "| boardgamehonor | Prix remportés |\n",
    "| boardgamecategory | Mot-clé(s) caractérisant la catégorie du jeu |\n",
    "| boardgamemechanic | Mot-clé(s) caractérisant les mécaniques principales du jeu|\n",
    "| boardgamefamily | Mot-clé(s) caractérisant la famille du jeu |\n",
    "\n",
    "---"
   ]
  },
  {
   "attachments": {},
   "cell_type": "markdown",
   "metadata": {},
   "source": [
    "## **III - Problématique**\n",
    "\n",
    "> Je ne propose pas qu'une seule problématique pour l'analyse de ce jeu de données. Je préfère me rester libre dans l'exploration des données au fur et à mesure que les questions se posent.\n",
    "\n",
    "### 0) Premiers axes de réflexion:\n",
    "\n",
    "Quelques questions qui me viennent à l'esprit:\n",
    "\n",
    "* Quels sont les caractéristiques des jeux de société les mieux notés?\n",
    "* Quelles sont les caractéristiques des jeux de société les plus complexes?\n",
    "* Quel est l'impact du temps sur les jeux de société?\n",
    "\n",
    "#### 1) Quelles sont les caractéristiques des jeux de société les mieux notés?\n",
    "\n",
    "On peut dans un premier temps se demander ce que veut dire \"les mieux noté\". À partir de quelle note un jeu est considéré comme \"bien noté\"? Est ce qu'il suffit de prendre tous les jeux qui ont une note supérieure à 5? à 6?\n",
    "\n",
    "Essayons de répondre à ces questions en regardant les statistiques descriptives de la colonne `average`:\n"
   ]
  },
  {
   "cell_type": "code",
   "execution_count": 6,
   "metadata": {},
   "outputs": [
    {
     "name": "stdout",
     "output_type": "stream",
     "text": [
      "Moyenne: 6.28 - Médiane: 6.35 - Ecart type: 1.07\n"
     ]
    },
    {
     "data": {
      "image/png": "[encoded data removed]",
      "text/plain": [
       "<Figure size 800x600 with 1 Axes>"
      ]
     },
     "metadata": {},
     "output_type": "display_data"
    }
   ],
   "source": [
    "# Intervalles\n",
    "intervals = [[i, i+1] for i in range(10)]\n",
    "\n",
    "# Calcul du nombre de jeux par intervalle\n",
    "amounts = []\n",
    "for interval in intervals:\n",
    "    i, j = interval\n",
    "    games_in_interval = df[(df['average'] >= i) & (df['average'] < j)]\n",
    "    amounts.append(len(games_in_interval))\n",
    "\n",
    "# Calcul de la moyenne, médiane et de l'écart type\n",
    "mean = df['average'].mean()\n",
    "median = df['average'].median()\n",
    "std = df['average'].std()\n",
    "print(f\"Moyenne: {mean:.2f} - Médiane: {median:.2f} - Ecart type: {std:.2f}\")\n",
    "\n",
    "# Création de l'histogramme en barres\n",
    "plt.figure(figsize=(8,6))\n",
    "plt.title(\"Nombre de jeux ayant une note moyenne comprise entre i et i+1\")\n",
    "plt.xlabel(\"Note moyenne\")\n",
    "plt.ylabel(\"Nombre de jeux\")\n",
    "\n",
    "labels = [f\"{i}-{i+1}\" for i in range(10)]\n",
    "plt.bar(labels, amounts, linewidth=1.2, color='grey', width=0.6)\n",
    "plt.axvline(median, color='red', linestyle='dashed', linewidth=2)\n",
    "plt.show()"
   ]
  },
  {
   "attachments": {},
   "cell_type": "markdown",
   "metadata": {},
   "source": [
    "On remarque qu'il y a peu de jeux qui ont été noté en dessous de 5. Il ne sert donc à **rien** de considérer un jeu comme \"bien noté\" s'il a une note supérieure à 5. \n",
    "\n",
    "Considérons pour la suite que les jeux qui ont une note moyenne **supérieure ou égale à la médiane (6.35) sont des jeux \"bien notés\"**. Cela nous laisse 10 000 jeux à étudier. Appelons les jeux bien notés `good_games`.\n",
    "\n"
   ]
  },
  {
   "cell_type": "code",
   "execution_count": 10,
   "metadata": {},
   "outputs": [],
   "source": [
    "good_games = df[df['average'] > 8.5]"
   ]
  },
  {
   "attachments": {},
   "cell_type": "markdown",
   "metadata": {},
   "source": [
    "Découvrons maintenant les caractéristiques des jeux bien notés:\n",
    "\n",
    "* En quelle année sont sortis les meilleurs jeux de société?\n",
    "* Quelle est la difficulté moyenne des meilleurs jeux de société?\n",
    "* Quelle est la mécanique de jeu des meilleurs jeux de société?\n"
   ]
  },
  {
   "cell_type": "code",
   "execution_count": 32,
   "metadata": {},
   "outputs": [
    {
     "name": "stdout",
     "output_type": "stream",
     "text": [
      "[2017 2015 2018 2019 2010 2013 2016 2011 2014 2012 2020 2005 2021 2000\n",
      "    0 2009 2001 1986]\n"
     ]
    },
    {
     "data": {
      "image/png": "[encoded data removed]",
      "text/plain": [
       "<Figure size 640x480 with 1 Axes>"
      ]
     },
     "metadata": {},
     "output_type": "display_data"
    }
   ],
   "source": [
    "# Obtenir une liste des années présentes dans la dataframe good_games\n",
    "years = pd.unique(good_games['yearpublished'])\n",
    "\n",
    "# Filtrer les années pour ne garder que celles qui ont des valeurs\n",
    "years_with_values = [y for y in years if good_games['yearpublished'].value_counts()[y] > 0]\n",
    "\n",
    "plt.bar(years_with_values, years, linewidth=1.2, color='grey', width=0.6)\n",
    "print(years)\n",
    "plt.xticks(rotation=90)\n",
    "plt.xlabel('Année de sortie')\n",
    "plt.ylabel('Nombre de jeux')\n",
    "plt.title('Nombre de jeux par année de sortie (pour les jeux bien notés)')\n",
    "plt.show()"
   ]
  },
  {
   "cell_type": "markdown",
   "metadata": {},
   "source": []
  },
  {
   "cell_type": "code",
   "execution_count": null,
   "metadata": {},
   "outputs": [],
   "source": []
  },
  {
   "attachments": {},
   "cell_type": "markdown",
   "metadata": {},
   "source": [
    "\n",
    "\n",
    "#### b) Quelles sont les caractéristiques des jeux de société les plus complexes?"
   ]
  }
 ],
 "metadata": {
  "kernelspec": {
   "display_name": "Python 3",
   "language": "python",
   "name": "python3"
  },
  "language_info": {
   "codemirror_mode": {
    "name": "ipython",
    "version": 3
   },
   "file_extension": ".py",
   "mimetype": "text/x-python",
   "name": "python",
   "nbconvert_exporter": "python",
   "pygments_lexer": "ipython3",
   "version": "3.11.1"
  },
  "orig_nbformat": 4
 },
 "nbformat": 4,
 "nbformat_minor": 2
}
